{
  "cells": [
    {
      "cell_type": "code",
      "source": [
        "!pip install azure-cognitiveservices-vision-face"
      ],
      "outputs": [],
      "execution_count": null,
      "metadata": {}
    },
    {
      "cell_type": "code",
      "source": [
        "from msrest.authentication import CognitiveServicesCredentials\r\n",
        "from azure.cognitiveservices.vision.face import FaceClient"
      ],
      "outputs": [],
      "execution_count": 3,
      "metadata": {
        "collapsed": true,
        "jupyter": {
          "source_hidden": false,
          "outputs_hidden": false
        },
        "nteract": {
          "transient": {
            "deleting": false
          }
        },
        "gather": {
          "logged": 1607306218224
        }
      }
    },
    {
      "cell_type": "code",
      "source": [
        "def get_face_client():\r\n",
        "    \"\"\"Create an authenticated FaceClient.\"\"\"\r\n",
        "    SUBSCRIPTION_KEY = \"<REPLACE WITH YOUR KEY!!>\"\r\n",
        "    ENDPOINT = \"<REPLACE WITH YOUR ENDPOINT URL!!>\"\r\n",
        "    credential = CognitiveServicesCredentials(SUBSCRIPTION_KEY)\r\n",
        "    return FaceClient(ENDPOINT, credential)"
      ],
      "outputs": [],
      "execution_count": 4,
      "metadata": {
        "collapsed": true,
        "jupyter": {
          "source_hidden": false,
          "outputs_hidden": false
        },
        "nteract": {
          "transient": {
            "deleting": false
          }
        },
        "gather": {
          "logged": 1607306269597
        }
      }
    },
    {
      "cell_type": "code",
      "source": [
        "face_client = get_face_client()\r\n",
        "\r\n",
        "url = \"https://docs.microsoft.com/en-us/learn/data-ai-cert/identify-faces-with-computer-vision/media/clo19_ubisoft_azure_068.png\"\r\n",
        "\r\n",
        "attributes = [\"emotion\", \"glasses\", \"smile\"]\r\n",
        "include_id = True\r\n",
        "include_landmarks = False\r\n",
        "\r\n",
        "detected_faces = face_client.face.detect_with_url(url, include_id, include_landmarks, attributes, raw=True)\r\n",
        "\r\n",
        "if not detected_faces:\r\n",
        "    raise Exception('No face detected in image')\r\n",
        "\r\n",
        "print(detected_faces.response.json())"
      ],
      "outputs": [],
      "execution_count": null,
      "metadata": {
        "collapsed": true,
        "jupyter": {
          "source_hidden": false,
          "outputs_hidden": false
        },
        "nteract": {
          "transient": {
            "deleting": false
          }
        },
        "gather": {
          "logged": 1607306298056
        }
      }
    }
  ],
  "metadata": {
    "kernelspec": {
      "display_name": "Python 3.6 - AzureML",
      "language": "python",
      "name": "python3-azureml"
    },
    "language_info": {
      "name": "python",
      "version": "3.6.9",
      "mimetype": "text/x-python",
      "codemirror_mode": {
        "name": "ipython",
        "version": 3
      },
      "pygments_lexer": "ipython3",
      "nbconvert_exporter": "python",
      "file_extension": ".py"
    },
    "nteract": {
      "version": "nteract-front-end@1.0.0"
    }
  },
  "nbformat": 4,
  "nbformat_minor": 2
}